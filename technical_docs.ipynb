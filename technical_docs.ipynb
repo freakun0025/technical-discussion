{
  "nbformat": 4,
  "nbformat_minor": 0,
  "metadata": {
    "colab": {
      "provenance": [],
      "authorship_tag": "ABX9TyNd+GYPMkb7xxxoQDqeVfJv",
      "include_colab_link": true
    },
    "kernelspec": {
      "name": "python3",
      "display_name": "Python 3"
    },
    "language_info": {
      "name": "python"
    }
  },
  "cells": [
    {
      "cell_type": "markdown",
      "metadata": {
        "id": "view-in-github",
        "colab_type": "text"
      },
      "source": [
        "<a href=\"https://colab.research.google.com/github/freakun0025/technical-discussion/blob/main/technical_docs.ipynb\" target=\"_parent\"><img src=\"https://colab.research.google.com/assets/colab-badge.svg\" alt=\"Open In Colab\"/></a>"
      ]
    },
    {
      "cell_type": "markdown",
      "source": [
        "## Ingest\n",
        "\n"
      ],
      "metadata": {
        "id": "LNCwt5gu1Sib"
      }
    },
    {
      "cell_type": "code",
      "execution_count": 2,
      "metadata": {
        "colab": {
          "base_uri": "https://localhost:8080/",
          "height": 36
        },
        "id": "XtwvBAhX0ieI",
        "outputId": "cd110619-5e67-43e8-d601-7266c53b6fc5"
      },
      "outputs": [
        {
          "output_type": "execute_result",
          "data": {
            "text/plain": [
              "'hi'"
            ],
            "application/vnd.google.colaboratory.intrinsic+json": {
              "type": "string"
            }
          },
          "metadata": {},
          "execution_count": 2
        }
      ],
      "source": [
        "def hello():\n",
        "  return \"hi\"\n",
        "hello()\n"
      ]
    },
    {
      "cell_type": "markdown",
      "source": [
        "## EDA"
      ],
      "metadata": {
        "id": "49xHJDYW1YV_"
      }
    },
    {
      "cell_type": "markdown",
      "source": [
        "### This is a markdown heading\n",
        "* one\n",
        "* two\n",
        "* three"
      ],
      "metadata": {
        "id": "Rofekirr1vua"
      }
    },
    {
      "cell_type": "code",
      "source": [],
      "metadata": {
        "id": "kNpMf78F1GUM"
      },
      "execution_count": 2,
      "outputs": []
    },
    {
      "cell_type": "code",
      "source": [],
      "metadata": {
        "id": "CRAz-JYb1z3L"
      },
      "execution_count": null,
      "outputs": []
    },
    {
      "cell_type": "markdown",
      "source": [
        "## NEET"
      ],
      "metadata": {
        "id": "Cn3nUrx11jst"
      }
    },
    {
      "cell_type": "code",
      "source": [],
      "metadata": {
        "id": "9v2bOwsn1ij4"
      },
      "execution_count": null,
      "outputs": []
    },
    {
      "cell_type": "markdown",
      "source": [
        "## JEE"
      ],
      "metadata": {
        "id": "oiioMa6K1gMc"
      }
    }
  ]
}